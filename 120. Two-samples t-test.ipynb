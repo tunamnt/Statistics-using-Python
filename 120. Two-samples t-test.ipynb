{
 "cells": [
  {
   "cell_type": "code",
   "execution_count": 3,
   "id": "eb557c7d",
   "metadata": {},
   "outputs": [],
   "source": [
    "import pandas as pd\n",
    "import numpy as np\n",
    "import scipy.stats as stats\n",
    "import matplotlib.pyplot as plt\n",
    "import seaborn as sns"
   ]
  },
  {
   "cell_type": "code",
   "execution_count": 8,
   "id": "1a39a75c",
   "metadata": {},
   "outputs": [
    {
     "data": {
      "image/png": "[encoded data removed]",
      "text/plain": [
       "<Figure size 432x288 with 1 Axes>"
      ]
     },
     "metadata": {
      "needs_background": "light"
     },
     "output_type": "display_data"
    }
   ],
   "source": [
    "## generating data\n",
    "\n",
    "# parameters\n",
    "n1 = 30\n",
    "n2 = 40\n",
    "mu1 = 1\n",
    "mu2 = 1.2\n",
    "\n",
    "# generate data\n",
    "data1 = mu1 + np.random.randn(n1)\n",
    "data2 = mu2 + np.random.randn(n2)\n",
    "\n",
    "# show histograms\n",
    "plt.hist(data1,bins='fd',color=[1,0,0,.5],label='Data1') # pure red with 50% transparency\n",
    "plt.hist(data2,bins='fd',color=[0,0,1,.5],label='Data2') # pure blue with 50% transparency\n",
    "plt.xlabel('data value')\n",
    "plt.ylabel('count')\n",
    "plt.legend()\n",
    "plt.show()"
   ]
  },
  {
   "cell_type": "code",
   "execution_count": 9,
   "id": "d8534ecd",
   "metadata": {},
   "outputs": [
    {
     "name": "stdout",
     "output_type": "stream",
     "text": [
      "t(68) = -0.429053, p = 0.669241\n"
     ]
    }
   ],
   "source": [
    "## t-test\n",
    "\n",
    "t,p = stats.ttest_ind(data1,data2,equal_var=True) # t-test for independent samples\n",
    "df=n1+n2-2\n",
    "print('t(%g) = %g, p = %g'%(df,t,p))"
   ]
  },
  {
   "cell_type": "code",
   "execution_count": null,
   "id": "fd1b9b33",
   "metadata": {},
   "outputs": [],
   "source": []
  }
 ],
 "metadata": {
  "kernelspec": {
   "display_name": "Python 3",
   "language": "python",
   "name": "python3"
  },
  "language_info": {
   "codemirror_mode": {
    "name": "ipython",
    "version": 3
   },
   "file_extension": ".py",
   "mimetype": "text/x-python",
   "name": "python",
   "nbconvert_exporter": "python",
   "pygments_lexer": "ipython3",
   "version": "3.8.8"
  }
 },
 "nbformat": 4,
 "nbformat_minor": 5
}
